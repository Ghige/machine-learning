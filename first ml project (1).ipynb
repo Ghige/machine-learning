{
 "cells": [
  {
   "cell_type": "markdown",
   "id": "85be7651-fa8f-4ad4-b637-3af924f15100",
   "metadata": {},
   "source": [
    "\\\n",
    "<font size = 6 color='black'><b><u><i><center>AquaPredict: Ensuring Safe Water</b></i></u></center></font>\n",
    "\\\n",
    "<font size = 5 color='brown'><center>By: Aditya Ghige</center></font>"
   ]
  },
  {
   "cell_type": "markdown",
   "id": "2e2919ea-117d-4d57-aeb1-5d806e06fe3b",
   "metadata": {},
   "source": [
    "Aim:To develop a reliable machine learning model that accurately predicts water quality, enabling effective management and ensuring safe water for all."
   ]
  },
  {
   "cell_type": "markdown",
   "id": "384860f4-8c9a-40a0-b22c-9e05fb43561b",
   "metadata": {},
   "source": [
    "Objectives:\r",
    ". Collect and preprocess water quality data2. Identify key physicochemical parameter\n",
    "3. Develop and train machine learning mode\r\n",
    "4. Evaluate model performa.\r\n",
    "5. Deploy the best model for real-time predicn.\r\n",
    "6. Analyze and interpret prediction rets.\r\n",
    "7. Document findings and recommendons.\r\n",
    "8. Ensure model adaptability and integration."
   ]
  },
  {
   "cell_type": "code",
   "execution_count": 1,
   "id": "c419e703-5c0a-4b52-a01e-68d7a0c1aa97",
   "metadata": {},
   "outputs": [],
   "source": [
    "import pandas as pd\n",
    "import numpy as np\n",
    "import matplotlib.pyplot as plt\n",
    "import seaborn as sns\n",
    "import warnings\n",
    "warnings.filterwarnings('ignore')"
   ]
  },
  {
   "cell_type": "code",
   "execution_count": 2,
   "id": "2e4bbe8e-a2c5-4b71-ab85-30f3e7d3c190",
   "metadata": {},
   "outputs": [],
   "source": [
    "df = pd.read_csv(\"Water Quality Prediction_final.csv\")"
   ]
  },
  {
   "cell_type": "markdown",
   "id": "348c8508-281e-4aa9-9c54-f4ee81896a22",
   "metadata": {},
   "source": [
    "# Features Description"
   ]
  },
  {
   "cell_type": "markdown",
   "id": "377549d7-c01b-424e-9b32-e7f3dce0f1a9",
   "metadata": {},
   "source": [
    "pH: Measurement of the acidity or alkalinity of the water.\n",
    "\n",
    "Iron: Concentration of iron in the water.\n",
    "\n",
    "Nitrate: Concentration of nitrate in the water.\n",
    "\n",
    "Chloride: Concentration of chloride in the water.\n",
    "\n",
    "Lead: Concentration of lead in the water.\n",
    "\n",
    "Zinc: Concentration of zinc in the water.\n",
    "\n",
    "Turbidity: Measure of how clear the water is, based on the presence of particles.\n",
    "\n",
    "Fluoride: Concentration of fluoride in the water.\n",
    "\n",
    "Copper: Concentration of copper in the water.\n",
    "\n",
    "Odor: Presence or intensity of odor in the water.\n",
    "\n",
    "Sulfate: Concentration of sulfate in the water.\n",
    "\n",
    "Chlorine: Concentration of chlorine in the water.\n",
    "\n",
    "Manganese: Concentration of manganese in the water.\n",
    "\n",
    "Total Dissolved Solids: Total concentration of dissolved substances in the water.\n",
    "\n",
    "Air Temperature: Temperature of the air, which may affect water quality.\n",
    "\n",
    "Target: The outcome variable indicating water quality status or classification."
   ]
  },
  {
   "cell_type": "code",
   "execution_count": 3,
   "id": "1f59f17b-0a83-4b49-8109-d08ff90251ef",
   "metadata": {},
   "outputs": [
    {
     "data": {
      "text/html": [
       "<div>\n",
       "<style scoped>\n",
       "    .dataframe tbody tr th:only-of-type {\n",
       "        vertical-align: middle;\n",
       "    }\n",
       "\n",
       "    .dataframe tbody tr th {\n",
       "        vertical-align: top;\n",
       "    }\n",
       "\n",
       "    .dataframe thead th {\n",
       "        text-align: right;\n",
       "    }\n",
       "</style>\n",
       "<table border=\"1\" class=\"dataframe\">\n",
       "  <thead>\n",
       "    <tr style=\"text-align: right;\">\n",
       "      <th></th>\n",
       "      <th>pH</th>\n",
       "      <th>Iron</th>\n",
       "      <th>Nitrate</th>\n",
       "      <th>Chloride</th>\n",
       "      <th>Lead</th>\n",
       "      <th>Zinc</th>\n",
       "      <th>Color</th>\n",
       "      <th>Turbidity</th>\n",
       "      <th>Fluoride</th>\n",
       "      <th>Copper</th>\n",
       "      <th>...</th>\n",
       "      <th>Chlorine</th>\n",
       "      <th>Manganese</th>\n",
       "      <th>Total Dissolved Solids</th>\n",
       "      <th>Source</th>\n",
       "      <th>Water Temperature</th>\n",
       "      <th>Air Temperature</th>\n",
       "      <th>Month</th>\n",
       "      <th>Day</th>\n",
       "      <th>Time of Day</th>\n",
       "      <th>Target</th>\n",
       "    </tr>\n",
       "  </thead>\n",
       "  <tbody>\n",
       "    <tr>\n",
       "      <th>0</th>\n",
       "      <td>8.332988</td>\n",
       "      <td>0.000083</td>\n",
       "      <td>8.605777</td>\n",
       "      <td>122.799772</td>\n",
       "      <td>3.710000e-52</td>\n",
       "      <td>3.434827</td>\n",
       "      <td>Colorless</td>\n",
       "      <td>0.022683</td>\n",
       "      <td>0.607283</td>\n",
       "      <td>0.144599</td>\n",
       "      <td>...</td>\n",
       "      <td>3.708178</td>\n",
       "      <td>2.270000e-15</td>\n",
       "      <td>332.118789</td>\n",
       "      <td>NaN</td>\n",
       "      <td>NaN</td>\n",
       "      <td>43.493324</td>\n",
       "      <td>January</td>\n",
       "      <td>29.0</td>\n",
       "      <td>4.0</td>\n",
       "      <td>0</td>\n",
       "    </tr>\n",
       "    <tr>\n",
       "      <th>1</th>\n",
       "      <td>6.917863</td>\n",
       "      <td>0.000081</td>\n",
       "      <td>3.734167</td>\n",
       "      <td>227.029851</td>\n",
       "      <td>7.850000e-94</td>\n",
       "      <td>1.245317</td>\n",
       "      <td>Faint Yellow</td>\n",
       "      <td>0.019007</td>\n",
       "      <td>0.622874</td>\n",
       "      <td>0.437835</td>\n",
       "      <td>...</td>\n",
       "      <td>3.292038</td>\n",
       "      <td>8.020000e-07</td>\n",
       "      <td>284.641984</td>\n",
       "      <td>Lake</td>\n",
       "      <td>15.348981</td>\n",
       "      <td>71.220586</td>\n",
       "      <td>November</td>\n",
       "      <td>26.0</td>\n",
       "      <td>16.0</td>\n",
       "      <td>0</td>\n",
       "    </tr>\n",
       "    <tr>\n",
       "      <th>2</th>\n",
       "      <td>5.443762</td>\n",
       "      <td>0.020106</td>\n",
       "      <td>3.816994</td>\n",
       "      <td>230.995630</td>\n",
       "      <td>5.290000e-76</td>\n",
       "      <td>0.528280</td>\n",
       "      <td>Light Yellow</td>\n",
       "      <td>0.319956</td>\n",
       "      <td>0.423423</td>\n",
       "      <td>0.431588</td>\n",
       "      <td>...</td>\n",
       "      <td>3.560224</td>\n",
       "      <td>7.007989e-02</td>\n",
       "      <td>570.054094</td>\n",
       "      <td>River</td>\n",
       "      <td>11.643467</td>\n",
       "      <td>44.891330</td>\n",
       "      <td>January</td>\n",
       "      <td>31.0</td>\n",
       "      <td>8.0</td>\n",
       "      <td>0</td>\n",
       "    </tr>\n",
       "    <tr>\n",
       "      <th>3</th>\n",
       "      <td>7.955339</td>\n",
       "      <td>0.143988</td>\n",
       "      <td>8.224944</td>\n",
       "      <td>178.129940</td>\n",
       "      <td>4.000000e-176</td>\n",
       "      <td>4.027879</td>\n",
       "      <td>Near Colorless</td>\n",
       "      <td>0.166319</td>\n",
       "      <td>0.208454</td>\n",
       "      <td>0.239451</td>\n",
       "      <td>...</td>\n",
       "      <td>3.516907</td>\n",
       "      <td>2.468295e-02</td>\n",
       "      <td>100.043838</td>\n",
       "      <td>Ground</td>\n",
       "      <td>10.092392</td>\n",
       "      <td>60.843233</td>\n",
       "      <td>April</td>\n",
       "      <td>1.0</td>\n",
       "      <td>21.0</td>\n",
       "      <td>0</td>\n",
       "    </tr>\n",
       "    <tr>\n",
       "      <th>4</th>\n",
       "      <td>8.091909</td>\n",
       "      <td>0.002167</td>\n",
       "      <td>9.925788</td>\n",
       "      <td>186.540872</td>\n",
       "      <td>4.170000e-132</td>\n",
       "      <td>3.807511</td>\n",
       "      <td>Light Yellow</td>\n",
       "      <td>0.004867</td>\n",
       "      <td>0.222912</td>\n",
       "      <td>0.616574</td>\n",
       "      <td>...</td>\n",
       "      <td>3.177849</td>\n",
       "      <td>3.296139e-03</td>\n",
       "      <td>168.075545</td>\n",
       "      <td>Spring</td>\n",
       "      <td>15.249416</td>\n",
       "      <td>69.336671</td>\n",
       "      <td>June</td>\n",
       "      <td>29.0</td>\n",
       "      <td>7.0</td>\n",
       "      <td>0</td>\n",
       "    </tr>\n",
       "  </tbody>\n",
       "</table>\n",
       "<p>5 rows × 23 columns</p>\n",
       "</div>"
      ],
      "text/plain": [
       "         pH      Iron   Nitrate    Chloride           Lead      Zinc  \\\n",
       "0  8.332988  0.000083  8.605777  122.799772   3.710000e-52  3.434827   \n",
       "1  6.917863  0.000081  3.734167  227.029851   7.850000e-94  1.245317   \n",
       "2  5.443762  0.020106  3.816994  230.995630   5.290000e-76  0.528280   \n",
       "3  7.955339  0.143988  8.224944  178.129940  4.000000e-176  4.027879   \n",
       "4  8.091909  0.002167  9.925788  186.540872  4.170000e-132  3.807511   \n",
       "\n",
       "            Color  Turbidity  Fluoride    Copper  ...  Chlorine     Manganese  \\\n",
       "0       Colorless   0.022683  0.607283  0.144599  ...  3.708178  2.270000e-15   \n",
       "1    Faint Yellow   0.019007  0.622874  0.437835  ...  3.292038  8.020000e-07   \n",
       "2    Light Yellow   0.319956  0.423423  0.431588  ...  3.560224  7.007989e-02   \n",
       "3  Near Colorless   0.166319  0.208454  0.239451  ...  3.516907  2.468295e-02   \n",
       "4    Light Yellow   0.004867  0.222912  0.616574  ...  3.177849  3.296139e-03   \n",
       "\n",
       "   Total Dissolved Solids  Source  Water Temperature  Air Temperature  \\\n",
       "0              332.118789     NaN                NaN        43.493324   \n",
       "1              284.641984    Lake          15.348981        71.220586   \n",
       "2              570.054094   River          11.643467        44.891330   \n",
       "3              100.043838  Ground          10.092392        60.843233   \n",
       "4              168.075545  Spring          15.249416        69.336671   \n",
       "\n",
       "      Month   Day  Time of Day Target  \n",
       "0   January  29.0          4.0      0  \n",
       "1  November  26.0         16.0      0  \n",
       "2   January  31.0          8.0      0  \n",
       "3     April   1.0         21.0      0  \n",
       "4      June  29.0          7.0      0  \n",
       "\n",
       "[5 rows x 23 columns]"
      ]
     },
     "execution_count": 3,
     "metadata": {},
     "output_type": "execute_result"
    }
   ],
   "source": [
    "# Getting top 5 row of the dataset\n",
    "\n",
    "df.head()"
   ]
  },
  {
   "cell_type": "code",
   "execution_count": 4,
   "id": "5e2c3f93-216e-4b30-87ec-3c347385099f",
   "metadata": {},
   "outputs": [],
   "source": [
    "#the features you want to drop\n",
    "features_to_drop = [ 'Color', 'Source','Month','Day','Time of Day','Conductivity','Water Temperature']\n",
    "df.drop(columns=features_to_drop, inplace=True)\n"
   ]
  },
  {
   "cell_type": "code",
   "execution_count": 5,
   "id": "ab30a83d-a258-4d04-ad3d-5e01d7fa49c4",
   "metadata": {},
   "outputs": [
    {
     "name": "stdout",
     "output_type": "stream",
     "text": [
      "(99999, 16)\n"
     ]
    }
   ],
   "source": [
    "print(df.shape)"
   ]
  },
  {
   "cell_type": "code",
   "execution_count": 6,
   "id": "0f36d3d2-3803-472f-a2d6-e045189c1ba1",
   "metadata": {},
   "outputs": [
    {
     "name": "stdout",
     "output_type": "stream",
     "text": [
      "Index(['pH', 'Iron', 'Nitrate', 'Chloride', 'Lead', 'Zinc', 'Turbidity',\n",
      "       'Fluoride', 'Copper', 'Odor', 'Sulfate', 'Chlorine', 'Manganese',\n",
      "       'Total Dissolved Solids', 'Air Temperature', 'Target'],\n",
      "      dtype='object')\n"
     ]
    }
   ],
   "source": [
    "print(df.columns)"
   ]
  },
  {
   "cell_type": "code",
   "execution_count": 7,
   "id": "3cde1189-7655-4286-8ced-8b0e5e8d4402",
   "metadata": {},
   "outputs": [
    {
     "data": {
      "text/html": [
       "<div>\n",
       "<style scoped>\n",
       "    .dataframe tbody tr th:only-of-type {\n",
       "        vertical-align: middle;\n",
       "    }\n",
       "\n",
       "    .dataframe tbody tr th {\n",
       "        vertical-align: top;\n",
       "    }\n",
       "\n",
       "    .dataframe thead th {\n",
       "        text-align: right;\n",
       "    }\n",
       "</style>\n",
       "<table border=\"1\" class=\"dataframe\">\n",
       "  <thead>\n",
       "    <tr style=\"text-align: right;\">\n",
       "      <th></th>\n",
       "      <th>pH</th>\n",
       "      <th>Iron</th>\n",
       "      <th>Nitrate</th>\n",
       "      <th>Chloride</th>\n",
       "      <th>Lead</th>\n",
       "      <th>Zinc</th>\n",
       "      <th>Turbidity</th>\n",
       "      <th>Fluoride</th>\n",
       "      <th>Copper</th>\n",
       "      <th>Odor</th>\n",
       "      <th>Sulfate</th>\n",
       "      <th>Chlorine</th>\n",
       "      <th>Manganese</th>\n",
       "      <th>Total Dissolved Solids</th>\n",
       "      <th>Air Temperature</th>\n",
       "      <th>Target</th>\n",
       "    </tr>\n",
       "  </thead>\n",
       "  <tbody>\n",
       "    <tr>\n",
       "      <th>count</th>\n",
       "      <td>98063.000000</td>\n",
       "      <td>9.929800e+04</td>\n",
       "      <td>98236.000000</td>\n",
       "      <td>97060.000000</td>\n",
       "      <td>9.953200e+04</td>\n",
       "      <td>97339.000000</td>\n",
       "      <td>9.918700e+04</td>\n",
       "      <td>96795.000000</td>\n",
       "      <td>9.666400e+04</td>\n",
       "      <td>97113.000000</td>\n",
       "      <td>96642.000000</td>\n",
       "      <td>99087.000000</td>\n",
       "      <td>9.822500e+04</td>\n",
       "      <td>99974.000000</td>\n",
       "      <td>99503.000000</td>\n",
       "      <td>99999.000000</td>\n",
       "    </tr>\n",
       "    <tr>\n",
       "      <th>mean</th>\n",
       "      <td>7.429003</td>\n",
       "      <td>1.627582e-01</td>\n",
       "      <td>6.412500</td>\n",
       "      <td>190.382987</td>\n",
       "      <td>2.046246e-03</td>\n",
       "      <td>1.605949</td>\n",
       "      <td>6.169723e-01</td>\n",
       "      <td>1.027275</td>\n",
       "      <td>5.769789e-01</td>\n",
       "      <td>1.881272</td>\n",
       "      <td>150.727189</td>\n",
       "      <td>3.305423</td>\n",
       "      <td>1.485212e-01</td>\n",
       "      <td>274.416017</td>\n",
       "      <td>60.045597</td>\n",
       "      <td>0.500005</td>\n",
       "    </tr>\n",
       "    <tr>\n",
       "      <th>std</th>\n",
       "      <td>0.989020</td>\n",
       "      <td>5.523924e-01</td>\n",
       "      <td>3.584751</td>\n",
       "      <td>74.770988</td>\n",
       "      <td>3.760978e-02</td>\n",
       "      <td>1.647048</td>\n",
       "      <td>1.047661e+00</td>\n",
       "      <td>0.900057</td>\n",
       "      <td>6.767327e-01</td>\n",
       "      <td>1.113032</td>\n",
       "      <td>75.328635</td>\n",
       "      <td>0.780780</td>\n",
       "      <td>5.538847e-01</td>\n",
       "      <td>159.701740</td>\n",
       "      <td>18.095669</td>\n",
       "      <td>0.500003</td>\n",
       "    </tr>\n",
       "    <tr>\n",
       "      <th>min</th>\n",
       "      <td>2.561677</td>\n",
       "      <td>7.450000e-40</td>\n",
       "      <td>0.529255</td>\n",
       "      <td>38.101784</td>\n",
       "      <td>0.000000e+00</td>\n",
       "      <td>0.000005</td>\n",
       "      <td>8.020000e-13</td>\n",
       "      <td>0.000071</td>\n",
       "      <td>4.440000e-08</td>\n",
       "      <td>0.011072</td>\n",
       "      <td>16.164578</td>\n",
       "      <td>1.035579</td>\n",
       "      <td>2.120000e-37</td>\n",
       "      <td>0.012985</td>\n",
       "      <td>-15.106136</td>\n",
       "      <td>0.000000</td>\n",
       "    </tr>\n",
       "    <tr>\n",
       "      <th>25%</th>\n",
       "      <td>6.823330</td>\n",
       "      <td>1.250000e-05</td>\n",
       "      <td>4.006456</td>\n",
       "      <td>139.633817</td>\n",
       "      <td>1.310000e-122</td>\n",
       "      <td>0.420637</td>\n",
       "      <td>4.332462e-02</td>\n",
       "      <td>0.388534</td>\n",
       "      <td>1.361408e-01</td>\n",
       "      <td>0.930052</td>\n",
       "      <td>98.702245</td>\n",
       "      <td>2.762619</td>\n",
       "      <td>3.860000e-06</td>\n",
       "      <td>137.026845</td>\n",
       "      <td>47.822268</td>\n",
       "      <td>0.000000</td>\n",
       "    </tr>\n",
       "    <tr>\n",
       "      <th>50%</th>\n",
       "      <td>7.431432</td>\n",
       "      <td>2.877816e-03</td>\n",
       "      <td>5.704853</td>\n",
       "      <td>179.325781</td>\n",
       "      <td>3.010000e-62</td>\n",
       "      <td>1.098275</td>\n",
       "      <td>2.360467e-01</td>\n",
       "      <td>0.804078</td>\n",
       "      <td>3.728778e-01</td>\n",
       "      <td>1.849148</td>\n",
       "      <td>136.641929</td>\n",
       "      <td>3.236779</td>\n",
       "      <td>1.096495e-03</td>\n",
       "      <td>273.203453</td>\n",
       "      <td>60.069639</td>\n",
       "      <td>1.000000</td>\n",
       "    </tr>\n",
       "    <tr>\n",
       "      <th>75%</th>\n",
       "      <td>8.053424</td>\n",
       "      <td>6.990781e-02</td>\n",
       "      <td>7.938119</td>\n",
       "      <td>225.039394</td>\n",
       "      <td>9.270000e-27</td>\n",
       "      <td>2.278333</td>\n",
       "      <td>7.249541e-01</td>\n",
       "      <td>1.411918</td>\n",
       "      <td>7.675694e-01</td>\n",
       "      <td>2.771157</td>\n",
       "      <td>186.632283</td>\n",
       "      <td>3.759302</td>\n",
       "      <td>2.901893e-02</td>\n",
       "      <td>408.553627</td>\n",
       "      <td>72.310385</td>\n",
       "      <td>1.000000</td>\n",
       "    </tr>\n",
       "    <tr>\n",
       "      <th>max</th>\n",
       "      <td>12.441113</td>\n",
       "      <td>1.293574e+01</td>\n",
       "      <td>61.252584</td>\n",
       "      <td>1430.548852</td>\n",
       "      <td>2.511762e+00</td>\n",
       "      <td>21.500163</td>\n",
       "      <td>1.418437e+01</td>\n",
       "      <td>10.299514</td>\n",
       "      <td>1.139056e+01</td>\n",
       "      <td>4.141968</td>\n",
       "      <td>1279.553774</td>\n",
       "      <td>10.351240</td>\n",
       "      <td>2.026258e+01</td>\n",
       "      <td>579.799458</td>\n",
       "      <td>132.740078</td>\n",
       "      <td>1.000000</td>\n",
       "    </tr>\n",
       "  </tbody>\n",
       "</table>\n",
       "</div>"
      ],
      "text/plain": [
       "                 pH          Iron       Nitrate      Chloride           Lead  \\\n",
       "count  98063.000000  9.929800e+04  98236.000000  97060.000000   9.953200e+04   \n",
       "mean       7.429003  1.627582e-01      6.412500    190.382987   2.046246e-03   \n",
       "std        0.989020  5.523924e-01      3.584751     74.770988   3.760978e-02   \n",
       "min        2.561677  7.450000e-40      0.529255     38.101784   0.000000e+00   \n",
       "25%        6.823330  1.250000e-05      4.006456    139.633817  1.310000e-122   \n",
       "50%        7.431432  2.877816e-03      5.704853    179.325781   3.010000e-62   \n",
       "75%        8.053424  6.990781e-02      7.938119    225.039394   9.270000e-27   \n",
       "max       12.441113  1.293574e+01     61.252584   1430.548852   2.511762e+00   \n",
       "\n",
       "               Zinc     Turbidity      Fluoride        Copper          Odor  \\\n",
       "count  97339.000000  9.918700e+04  96795.000000  9.666400e+04  97113.000000   \n",
       "mean       1.605949  6.169723e-01      1.027275  5.769789e-01      1.881272   \n",
       "std        1.647048  1.047661e+00      0.900057  6.767327e-01      1.113032   \n",
       "min        0.000005  8.020000e-13      0.000071  4.440000e-08      0.011072   \n",
       "25%        0.420637  4.332462e-02      0.388534  1.361408e-01      0.930052   \n",
       "50%        1.098275  2.360467e-01      0.804078  3.728778e-01      1.849148   \n",
       "75%        2.278333  7.249541e-01      1.411918  7.675694e-01      2.771157   \n",
       "max       21.500163  1.418437e+01     10.299514  1.139056e+01      4.141968   \n",
       "\n",
       "            Sulfate      Chlorine     Manganese  Total Dissolved Solids  \\\n",
       "count  96642.000000  99087.000000  9.822500e+04            99974.000000   \n",
       "mean     150.727189      3.305423  1.485212e-01              274.416017   \n",
       "std       75.328635      0.780780  5.538847e-01              159.701740   \n",
       "min       16.164578      1.035579  2.120000e-37                0.012985   \n",
       "25%       98.702245      2.762619  3.860000e-06              137.026845   \n",
       "50%      136.641929      3.236779  1.096495e-03              273.203453   \n",
       "75%      186.632283      3.759302  2.901893e-02              408.553627   \n",
       "max     1279.553774     10.351240  2.026258e+01              579.799458   \n",
       "\n",
       "       Air Temperature        Target  \n",
       "count     99503.000000  99999.000000  \n",
       "mean         60.045597      0.500005  \n",
       "std          18.095669      0.500003  \n",
       "min         -15.106136      0.000000  \n",
       "25%          47.822268      0.000000  \n",
       "50%          60.069639      1.000000  \n",
       "75%          72.310385      1.000000  \n",
       "max         132.740078      1.000000  "
      ]
     },
     "execution_count": 7,
     "metadata": {},
     "output_type": "execute_result"
    }
   ],
   "source": [
    "df.describe()\n"
   ]
  },
  {
   "cell_type": "code",
   "execution_count": 8,
   "id": "cefc2278-4f2b-48aa-be39-197276ec4e75",
   "metadata": {},
   "outputs": [
    {
     "name": "stdout",
     "output_type": "stream",
     "text": [
      "<class 'pandas.core.frame.DataFrame'>\n",
      "RangeIndex: 99999 entries, 0 to 99998\n",
      "Data columns (total 16 columns):\n",
      " #   Column                  Non-Null Count  Dtype  \n",
      "---  ------                  --------------  -----  \n",
      " 0   pH                      98063 non-null  float64\n",
      " 1   Iron                    99298 non-null  float64\n",
      " 2   Nitrate                 98236 non-null  float64\n",
      " 3   Chloride                97060 non-null  float64\n",
      " 4   Lead                    99532 non-null  float64\n",
      " 5   Zinc                    97339 non-null  float64\n",
      " 6   Turbidity               99187 non-null  float64\n",
      " 7   Fluoride                96795 non-null  float64\n",
      " 8   Copper                  96664 non-null  float64\n",
      " 9   Odor                    97113 non-null  float64\n",
      " 10  Sulfate                 96642 non-null  float64\n",
      " 11  Chlorine                99087 non-null  float64\n",
      " 12  Manganese               98225 non-null  float64\n",
      " 13  Total Dissolved Solids  99974 non-null  float64\n",
      " 14  Air Temperature         99503 non-null  float64\n",
      " 15  Target                  99999 non-null  int64  \n",
      "dtypes: float64(15), int64(1)\n",
      "memory usage: 12.2 MB\n"
     ]
    }
   ],
   "source": [
    "df.info()"
   ]
  },
  {
   "cell_type": "code",
   "execution_count": 9,
   "id": "312d17cb-388a-400b-9bd9-a14d28d6981e",
   "metadata": {},
   "outputs": [
    {
     "name": "stdout",
     "output_type": "stream",
     "text": [
      "pH                        98062\n",
      "Iron                      75322\n",
      "Nitrate                   98235\n",
      "Chloride                  97059\n",
      "Lead                      68320\n",
      "Zinc                      97338\n",
      "Turbidity                 98577\n",
      "Fluoride                  96793\n",
      "Copper                    96652\n",
      "Odor                      97112\n",
      "Sulfate                   96642\n",
      "Chlorine                  99085\n",
      "Manganese                 70641\n",
      "Total Dissolved Solids    99974\n",
      "Air Temperature           99502\n",
      "Target                        2\n",
      "dtype: int64\n"
     ]
    }
   ],
   "source": [
    "print(df.nunique())"
   ]
  },
  {
   "cell_type": "code",
   "execution_count": 10,
   "id": "e728360b-7019-4c20-b919-952b19d6270b",
   "metadata": {},
   "outputs": [
    {
     "name": "stdout",
     "output_type": "stream",
     "text": [
      "pH                        1936\n",
      "Iron                       701\n",
      "Nitrate                   1763\n",
      "Chloride                  2939\n",
      "Lead                       467\n",
      "Zinc                      2660\n",
      "Turbidity                  812\n",
      "Fluoride                  3204\n",
      "Copper                    3335\n",
      "Odor                      2886\n",
      "Sulfate                   3357\n",
      "Chlorine                   912\n",
      "Manganese                 1774\n",
      "Total Dissolved Solids      25\n",
      "Air Temperature            496\n",
      "Target                       0\n",
      "dtype: int64\n"
     ]
    }
   ],
   "source": [
    "print(df.isnull().sum())"
   ]
  },
  {
   "cell_type": "code",
   "execution_count": 11,
   "id": "1dc59cd9-17aa-42b8-9500-5c751063bda9",
   "metadata": {},
   "outputs": [
    {
     "data": {
      "text/plain": [
       "<Axes: >"
      ]
     },
     "execution_count": 11,
     "metadata": {},
     "output_type": "execute_result"
    },
    {
     "data": {
      "image/png": "[encoded data removed]",
      "text/plain": [
       "<Figure size 640x480 with 2 Axes>"
      ]
     },
     "metadata": {},
     "output_type": "display_data"
    }
   ],
   "source": [
    "sns.heatmap(df.isnull())"
   ]
  },
  {
   "cell_type": "code",
   "execution_count": 13,
   "id": "09423929-2c78-409a-9b26-3944e0b79775",
   "metadata": {},
   "outputs": [
    {
     "data": {
      "text/plain": [
       "Lead       Lead       1.000000\n",
       "Nitrate    Nitrate    1.000000\n",
       "Turbidity  Target     0.238099\n",
       "Target     Copper     0.223505\n",
       "Chloride   Target     0.221061\n",
       "Manganese  Target     0.186874\n",
       "dtype: float64"
      ]
     },
     "execution_count": 13,
     "metadata": {},
     "output_type": "execute_result"
    }
   ],
   "source": [
    "# Unstacking the correlation matrix to see the values more clearly.\n",
    "corr = df.corr()\n",
    "c1 = corr.abs().unstack()\n",
    "c1.sort_values(ascending = False)[12:24:2]"
   ]
  },
  {
   "cell_type": "code",
   "execution_count": 14,
   "id": "0adde2fb-0d6e-40c1-92d3-1e8147a4f591",
   "metadata": {},
   "outputs": [],
   "source": [
    "# Assuming 'df' is your DataFrame\n",
    "df.fillna(df.mean(), inplace=True)\n"
   ]
  },
  {
   "cell_type": "code",
   "execution_count": 15,
   "id": "8fdd1ab3-8236-4c04-9d74-e2fbcaaabb02",
   "metadata": {},
   "outputs": [
    {
     "name": "stdout",
     "output_type": "stream",
     "text": [
      "pH                        0\n",
      "Iron                      0\n",
      "Nitrate                   0\n",
      "Chloride                  0\n",
      "Lead                      0\n",
      "Zinc                      0\n",
      "Turbidity                 0\n",
      "Fluoride                  0\n",
      "Copper                    0\n",
      "Odor                      0\n",
      "Sulfate                   0\n",
      "Chlorine                  0\n",
      "Manganese                 0\n",
      "Total Dissolved Solids    0\n",
      "Air Temperature           0\n",
      "Target                    0\n",
      "dtype: int64\n"
     ]
    }
   ],
   "source": [
    "print(df.isnull().sum())"
   ]
  },
  {
   "cell_type": "code",
   "execution_count": 16,
   "id": "ba5732f6-4199-4c06-901f-cab9ff05d6a6",
   "metadata": {},
   "outputs": [
    {
     "data": {
      "image/png": "[encoded data removed]",
      "text/plain": [
       "<Figure size 640x480 with 1 Axes>"
      ]
     },
     "metadata": {},
     "output_type": "display_data"
    }
   ],
   "source": [
    "import matplotlib.pyplot as plt\n",
    "\n",
    "# Assuming 'df' is your DataFrame and 'Target' is the name of the target feature\n",
    "target_counts = df['Target'].value_counts()\n",
    "\n",
    "# Plotting\n",
    "plt.bar(target_counts.index.astype(str), target_counts.values)\n",
    "plt.xlabel('Water Potability')\n",
    "plt.ylabel('Count')\n",
    "plt.title('Distribution of Water Potability')\n",
    "plt.show()"
   ]
  },
  {
   "cell_type": "code",
   "execution_count": 17,
   "id": "9b9399ea-8fc1-4cc6-83a1-401bd1875eca",
   "metadata": {},
   "outputs": [],
   "source": [
    "X = df.drop('Target', axis=1)\n",
    "y = df['Target']"
   ]
  },
  {
   "cell_type": "code",
   "execution_count": 18,
   "id": "e252bab9-f3f4-4992-a54f-0fe26454ed29",
   "metadata": {},
   "outputs": [
    {
     "data": {
      "text/plain": [
       "((99999, 15), (99999,))"
      ]
     },
     "execution_count": 18,
     "metadata": {},
     "output_type": "execute_result"
    }
   ],
   "source": [
    "X.shape, y.shape"
   ]
  },
  {
   "cell_type": "code",
   "execution_count": 19,
   "id": "1f48f60e-53a4-4eb1-bca8-736db9f93ae3",
   "metadata": {},
   "outputs": [],
   "source": [
    "# import StandardScaler to perform scaling\n",
    "from sklearn.preprocessing import StandardScaler \n",
    "scaler = StandardScaler()"
   ]
  },
  {
   "cell_type": "code",
   "execution_count": 20,
   "id": "223fe88e-4cbd-4548-b59f-b8f17108b5f8",
   "metadata": {},
   "outputs": [
    {
     "data": {
      "text/plain": [
       "array([[ 0.9230042 , -0.29553041,  0.61730427, ..., -0.27055664,\n",
       "         0.36136284, -0.91699068],\n",
       "       [-0.52189372, -0.29553586, -0.75382447, ..., -0.27055518,\n",
       "         0.06403998,  0.61909085],\n",
       "       [-2.02700774, -0.25915589, -0.73051252, ..., -0.14289421,\n",
       "         1.85142954, -0.83954163],\n",
       "       ...,\n",
       "       [ 1.55064807, -0.22416207,  0.24020499, ..., -0.27039051,\n",
       "         0.59708669,  0.16049188],\n",
       "       [-0.3649166 , -0.14125459, -0.7448766 , ..., -0.27051529,\n",
       "        -0.54079622, -1.34128526],\n",
       "       [-1.31781392, -0.29567395,  0.08189988, ..., -0.22768003,\n",
       "         1.26065047, -1.03353344]])"
      ]
     },
     "execution_count": 20,
     "metadata": {},
     "output_type": "execute_result"
    }
   ],
   "source": [
    "X = scaler.fit_transform(X)\n",
    "X"
   ]
  },
  {
   "cell_type": "code",
   "execution_count": 21,
   "id": "a9c234a4-92d0-426d-be25-b3977fe3ab40",
   "metadata": {},
   "outputs": [],
   "source": [
    "# import train-test split \n",
    "from sklearn.model_selection import train_test_split"
   ]
  },
  {
   "cell_type": "code",
   "execution_count": 22,
   "id": "0c14271d-1b43-4829-b8d4-c61cc889a813",
   "metadata": {},
   "outputs": [],
   "source": [
    "X_train, X_test, y_train, y_test = train_test_split(X, y, test_size=0.33, random_state=42)"
   ]
  },
  {
   "cell_type": "markdown",
   "id": "d3a6bfc1-93f5-4641-8053-f00ef3b63ce3",
   "metadata": {},
   "source": [
    "# Logistic regression"
   ]
  },
  {
   "cell_type": "markdown",
   "id": "cb294212-2a73-4e57-a935-88876c42ff67",
   "metadata": {},
   "source": [
    "             A statistical method for binary classification that predicts the probability of an outcome using a logistic function (sigmoid function). It models the relationship between input features and the probability of a binary outcome."
   ]
  },
  {
   "cell_type": "code",
   "execution_count": 23,
   "id": "fcd2c7e3-38ed-44fe-92f7-1e7c9a221ec6",
   "metadata": {},
   "outputs": [
    {
     "name": "stdout",
     "output_type": "stream",
     "text": [
      "0.7717878787878788\n"
     ]
    }
   ],
   "source": [
    "from sklearn.linear_model import LogisticRegression\n",
    "from sklearn.metrics import confusion_matrix, accuracy_score, classification_report\n",
    "# Creating model object\n",
    "model_lg = LogisticRegression(max_iter=120,random_state=0, n_jobs=20)\n",
    "# Training Model\n",
    "model_lg.fit(X_train, y_train)\n",
    "LogisticRegression(max_iter=120, n_jobs=20, random_state=0)\n",
    "# Making Prediction\n",
    "pred_lg = model_lg.predict(X_test)\n",
    "# Calculating Accuracy Score\n",
    "lg = accuracy_score(y_test, pred_lg)\n",
    "print(lg)"
   ]
  },
  {
   "cell_type": "code",
   "execution_count": 24,
   "id": "87bc1f54-1079-4802-afff-afcf32359280",
   "metadata": {},
   "outputs": [
    {
     "name": "stdout",
     "output_type": "stream",
     "text": [
      "              precision    recall  f1-score   support\n",
      "\n",
      "           0       0.75      0.83      0.78     16587\n",
      "           1       0.80      0.71      0.76     16413\n",
      "\n",
      "    accuracy                           0.77     33000\n",
      "   macro avg       0.78      0.77      0.77     33000\n",
      "weighted avg       0.78      0.77      0.77     33000\n",
      "\n"
     ]
    }
   ],
   "source": [
    "print(classification_report(y_test,pred_lg))"
   ]
  },
  {
   "cell_type": "code",
   "execution_count": 25,
   "id": "f27325a0-c068-4f52-8c58-deef59994911",
   "metadata": {},
   "outputs": [
    {
     "data": {
      "text/plain": [
       "<Axes: >"
      ]
     },
     "execution_count": 25,
     "metadata": {},
     "output_type": "execute_result"
    },
    {
     "data": {
      "image/png": "[encoded data removed]",
      "text/plain": [
       "<Figure size 640x480 with 2 Axes>"
      ]
     },
     "metadata": {},
     "output_type": "display_data"
    }
   ],
   "source": [
    "# confusion Maxtrix\n",
    "cm1 = confusion_matrix(y_test, pred_lg)\n",
    "sns.heatmap(cm1/np.sum(cm1), annot = True, fmt=  '0.2%', cmap = 'Reds')"
   ]
  },
  {
   "cell_type": "markdown",
   "id": "3c7e5b7d-2086-4779-a0d7-44fc25c17fe8",
   "metadata": {},
   "source": [
    "# Decision Tree"
   ]
  },
  {
   "cell_type": "markdown",
   "id": "0dd55a8e-2e75-462b-b641-21ef994cde42",
   "metadata": {},
   "source": [
    "                             A model used for classification and regression that splits data into branches based on feature values to make predictions. It creates a tree-like structure of decisions, with each node representing a feature test, each branch representing an outcome, and each leaf representing a prediction"
   ]
  },
  {
   "cell_type": "code",
   "execution_count": 26,
   "id": "0a0d6a6d-98a5-41bd-8f91-7dc435348688",
   "metadata": {},
   "outputs": [
    {
     "name": "stdout",
     "output_type": "stream",
     "text": [
      "0.7976666666666666\n"
     ]
    }
   ],
   "source": [
    "from sklearn.tree import DecisionTreeClassifier\n",
    "# Creating model object\n",
    "model_dt = DecisionTreeClassifier( max_depth=4, random_state=42)\n",
    "# Training Model\n",
    "model_dt.fit(X_train,y_train)\n",
    "# Making Prediction\n",
    "pred_dt = model_dt.predict(X_test)\n",
    "# Calculating Accuracy Score\n",
    "dt = accuracy_score(y_test, pred_dt)\n",
    "print(dt)"
   ]
  },
  {
   "cell_type": "code",
   "execution_count": 27,
   "id": "97eb9eb5-ddeb-4820-ab6e-604dba2c4a32",
   "metadata": {},
   "outputs": [
    {
     "name": "stdout",
     "output_type": "stream",
     "text": [
      "              precision    recall  f1-score   support\n",
      "\n",
      "           0       0.76      0.88      0.81     16587\n",
      "           1       0.86      0.71      0.78     16413\n",
      "\n",
      "    accuracy                           0.80     33000\n",
      "   macro avg       0.81      0.80      0.80     33000\n",
      "weighted avg       0.81      0.80      0.80     33000\n",
      "\n"
     ]
    }
   ],
   "source": [
    "print(classification_report(y_test,pred_dt))"
   ]
  },
  {
   "cell_type": "code",
   "execution_count": 28,
   "id": "ae07156d-f7f0-4976-9701-6a2937578d0f",
   "metadata": {},
   "outputs": [
    {
     "data": {
      "text/plain": [
       "<Axes: >"
      ]
     },
     "execution_count": 28,
     "metadata": {},
     "output_type": "execute_result"
    },
    {
     "data": {
      "image/png": "[encoded data removed]",
      "text/plain": [
       "<Figure size 640x480 with 2 Axes>"
      ]
     },
     "metadata": {},
     "output_type": "display_data"
    }
   ],
   "source": [
    "# confusion Maxtrix\n",
    "cm2 = confusion_matrix(y_test, pred_dt)\n",
    "sns.heatmap(cm2/np.sum(cm2), annot = True, fmt=  '0.2%', cmap = 'Reds')"
   ]
  },
  {
   "cell_type": "markdown",
   "id": "7f033fd2-3868-42af-a599-2dd776559fec",
   "metadata": {},
   "source": [
    "# Random Forest"
   ]
  },
  {
   "cell_type": "markdown",
   "id": "1127e840-1be0-44a4-8ce0-d266d6645f40",
   "metadata": {},
   "source": [
    "           An ensemble learning method that combines multiple decision trees to improve accuracy and robustness. It creates a \"forest\" of decision trees by training each tree on a random subset of the data and features, and then averages their predictions (for regression) or uses majority voting (for classification) to make a final decision."
   ]
  },
  {
   "cell_type": "code",
   "execution_count": 29,
   "id": "a9c72ee2-f5e7-418a-88f2-491dd655c61f",
   "metadata": {},
   "outputs": [
    {
     "name": "stdout",
     "output_type": "stream",
     "text": [
      "0.7136060606060606\n"
     ]
    }
   ],
   "source": [
    "from sklearn.ensemble import RandomForestClassifier\n",
    "# Creating model object\n",
    "model_rf = RandomForestClassifier(n_estimators=300,min_samples_leaf=0.16, random_state=42)\n",
    "# Training Model\n",
    "model_rf.fit(X_train, y_train)\n",
    "# Making Prediction\n",
    "pred_rf = model_rf.predict(X_test)\n",
    "# Calculating Accuracy Score\n",
    "rf = accuracy_score(y_test, pred_rf)\n",
    "print(rf)"
   ]
  },
  {
   "cell_type": "code",
   "execution_count": 30,
   "id": "700a6c00-493c-4c5b-a9ac-b99f03c14866",
   "metadata": {},
   "outputs": [
    {
     "name": "stdout",
     "output_type": "stream",
     "text": [
      "              precision    recall  f1-score   support\n",
      "\n",
      "           0       0.71      0.73      0.72     16587\n",
      "           1       0.72      0.70      0.71     16413\n",
      "\n",
      "    accuracy                           0.71     33000\n",
      "   macro avg       0.71      0.71      0.71     33000\n",
      "weighted avg       0.71      0.71      0.71     33000\n",
      "\n"
     ]
    }
   ],
   "source": [
    "print(classification_report(y_test,pred_rf))"
   ]
  },
  {
   "cell_type": "code",
   "execution_count": 31,
   "id": "ce810c56-796c-4ada-900c-e1789d2a2378",
   "metadata": {},
   "outputs": [
    {
     "data": {
      "text/plain": [
       "<Axes: >"
      ]
     },
     "execution_count": 31,
     "metadata": {},
     "output_type": "execute_result"
    },
    {
     "data": {
      "image/png": "[encoded data removed]",
      "text/plain": [
       "<Figure size 640x480 with 2 Axes>"
      ]
     },
     "metadata": {},
     "output_type": "display_data"
    }
   ],
   "source": [
    "# confusion Maxtrix\n",
    "cm3 = confusion_matrix(y_test, pred_rf)\n",
    "sns.heatmap(cm3/np.sum(cm3), annot = True, fmt=  '0.2%', cmap = 'Reds')"
   ]
  },
  {
   "cell_type": "markdown",
   "id": "bec51f9c-ca9a-4aa7-b476-bced3623570c",
   "metadata": {},
   "source": [
    "# KNN"
   ]
  },
  {
   "cell_type": "markdown",
   "id": "759eba4c-05f6-49a9-ab7d-141a0e07a8ae",
   "metadata": {},
   "source": [
    "      A simple, instance-based learning algorithm used for classification and regression. It classifies a data point based on the majority class of its K closest neighbors or predicts a value by averaging the values of its K nearest neighbors. The choice of K and the distance metric (e.g., Euclidean distance) are key factors in its performance."
   ]
  },
  {
   "cell_type": "code",
   "execution_count": 32,
   "id": "a96da13b-32bb-4d69-b572-211af38fe0a2",
   "metadata": {},
   "outputs": [
    {
     "name": "stdout",
     "output_type": "stream",
     "text": [
      "0.813939393939394\n"
     ]
    }
   ],
   "source": [
    "from sklearn.neighbors import KNeighborsClassifier\n",
    "# Creating model object\n",
    "model_kn = KNeighborsClassifier(n_neighbors=9, leaf_size=20)\n",
    "# Training Model\n",
    "model_kn.fit(X_train, y_train)\n",
    "# Making Prediction\n",
    "pred_kn = model_kn.predict(X_test)\n",
    "# Calculating Accuracy Score\n",
    "kn = accuracy_score(y_test, pred_kn)\n",
    "print(kn)"
   ]
  },
  {
   "cell_type": "code",
   "execution_count": 33,
   "id": "b5260501-429d-481f-bb75-48adb97ec639",
   "metadata": {},
   "outputs": [
    {
     "name": "stdout",
     "output_type": "stream",
     "text": [
      "              precision    recall  f1-score   support\n",
      "\n",
      "           0       0.78      0.88      0.83     16587\n",
      "           1       0.86      0.75      0.80     16413\n",
      "\n",
      "    accuracy                           0.81     33000\n",
      "   macro avg       0.82      0.81      0.81     33000\n",
      "weighted avg       0.82      0.81      0.81     33000\n",
      "\n"
     ]
    }
   ],
   "source": [
    "print(classification_report(y_test,pred_kn))"
   ]
  },
  {
   "cell_type": "code",
   "execution_count": 34,
   "id": "408941c0-97d2-45cc-bf28-4222dde0b107",
   "metadata": {},
   "outputs": [
    {
     "data": {
      "text/plain": [
       "<Axes: >"
      ]
     },
     "execution_count": 34,
     "metadata": {},
     "output_type": "execute_result"
    },
    {
     "data": {
      "image/png": "[encoded data removed]",
      "text/plain": [
       "<Figure size 640x480 with 2 Axes>"
      ]
     },
     "metadata": {},
     "output_type": "display_data"
    }
   ],
   "source": [
    "# confusion Maxtrix\n",
    "cm5 = confusion_matrix(y_test, pred_kn)\n",
    "sns.heatmap(cm5/np.sum(cm5), annot = True, fmt=  '0.2%', cmap = 'Reds')"
   ]
  },
  {
   "cell_type": "markdown",
   "id": "d75ee044-d087-4fc2-8822-df9a252b4edf",
   "metadata": {},
   "source": [
    "# SVM"
   ]
  },
  {
   "cell_type": "markdown",
   "id": "db9a83a1-b51e-4259-850a-0a94f8b4bf48",
   "metadata": {},
   "source": [
    "           A supervised learning algorithm used for classification and regression. It finds the hyperplane that best separates data into different classes by maximizing the margin between classes. For non-linearly separable data, SVM uses kernel functions to transform data into a higher-dimensional space where a hyperplane can be used to separate classes."
   ]
  },
  {
   "cell_type": "code",
   "execution_count": 35,
   "id": "946af5ef-dde3-4fe5-bb0a-2f5bf22eb393",
   "metadata": {},
   "outputs": [
    {
     "name": "stdout",
     "output_type": "stream",
     "text": [
      "0.8636363636363636\n"
     ]
    }
   ],
   "source": [
    "from sklearn.svm import SVC, LinearSVC\n",
    "model_svm = SVC(kernel='rbf', random_state = 42)\n",
    "model_svm.fit(X_train, y_train)\n",
    "# Making Prediction\n",
    "pred_svm = model_svm.predict(X_test)\n",
    "# Calculating Accuracy Score\n",
    "sv = accuracy_score(y_test, pred_svm)\n",
    "print(sv)"
   ]
  },
  {
   "cell_type": "code",
   "execution_count": 36,
   "id": "4e825601-7114-4a42-b9e0-d815ff76c52a",
   "metadata": {},
   "outputs": [
    {
     "name": "stdout",
     "output_type": "stream",
     "text": [
      "              precision    recall  f1-score   support\n",
      "\n",
      "           0       0.87      0.85      0.86     16587\n",
      "           1       0.85      0.87      0.86     16413\n",
      "\n",
      "    accuracy                           0.86     33000\n",
      "   macro avg       0.86      0.86      0.86     33000\n",
      "weighted avg       0.86      0.86      0.86     33000\n",
      "\n"
     ]
    }
   ],
   "source": [
    "print(classification_report(y_test,pred_svm))"
   ]
  },
  {
   "cell_type": "code",
   "execution_count": 37,
   "id": "dee1732b-50d8-49c1-8110-ad33f8301abd",
   "metadata": {},
   "outputs": [
    {
     "data": {
      "text/plain": [
       "<Axes: >"
      ]
     },
     "execution_count": 37,
     "metadata": {},
     "output_type": "execute_result"
    },
    {
     "data": {
      "image/png": "[encoded data removed]",
      "text/plain": [
       "<Figure size 640x480 with 2 Axes>"
      ]
     },
     "metadata": {},
     "output_type": "display_data"
    }
   ],
   "source": [
    "# confusion Maxtrix\n",
    "cm6 = confusion_matrix(y_test, pred_svm)\n",
    "sns.heatmap(cm6/np.sum(cm6), annot = True, fmt=  '0.2%', cmap = 'Reds')"
   ]
  },
  {
   "cell_type": "markdown",
   "id": "4acc449f-fc14-48c6-af50-36aa64b5e7ca",
   "metadata": {},
   "source": [
    "# Compiled Results"
   ]
  },
  {
   "cell_type": "code",
   "execution_count": 38,
   "id": "d99d315d-1ebc-4350-9d47-65e1367f7e35",
   "metadata": {},
   "outputs": [
    {
     "data": {
      "text/html": [
       "<div>\n",
       "<style scoped>\n",
       "    .dataframe tbody tr th:only-of-type {\n",
       "        vertical-align: middle;\n",
       "    }\n",
       "\n",
       "    .dataframe tbody tr th {\n",
       "        vertical-align: top;\n",
       "    }\n",
       "\n",
       "    .dataframe thead th {\n",
       "        text-align: right;\n",
       "    }\n",
       "</style>\n",
       "<table border=\"1\" class=\"dataframe\">\n",
       "  <thead>\n",
       "    <tr style=\"text-align: right;\">\n",
       "      <th></th>\n",
       "      <th>Model</th>\n",
       "      <th>Accuracy_score</th>\n",
       "    </tr>\n",
       "  </thead>\n",
       "  <tbody>\n",
       "    <tr>\n",
       "      <th>4</th>\n",
       "      <td>SVM</td>\n",
       "      <td>0.863636</td>\n",
       "    </tr>\n",
       "    <tr>\n",
       "      <th>3</th>\n",
       "      <td>KNeighbours</td>\n",
       "      <td>0.813939</td>\n",
       "    </tr>\n",
       "    <tr>\n",
       "      <th>1</th>\n",
       "      <td>Decision Tree</td>\n",
       "      <td>0.797667</td>\n",
       "    </tr>\n",
       "    <tr>\n",
       "      <th>0</th>\n",
       "      <td>Logistic Regression</td>\n",
       "      <td>0.771788</td>\n",
       "    </tr>\n",
       "    <tr>\n",
       "      <th>2</th>\n",
       "      <td>Random Forest</td>\n",
       "      <td>0.713606</td>\n",
       "    </tr>\n",
       "  </tbody>\n",
       "</table>\n",
       "</div>"
      ],
      "text/plain": [
       "                 Model  Accuracy_score\n",
       "4                  SVM        0.863636\n",
       "3          KNeighbours        0.813939\n",
       "1        Decision Tree        0.797667\n",
       "0  Logistic Regression        0.771788\n",
       "2        Random Forest        0.713606"
      ]
     },
     "execution_count": 38,
     "metadata": {},
     "output_type": "execute_result"
    },
    {
     "data": {
      "image/png": "[encoded data removed]",
      "text/plain": [
       "<Figure size 640x480 with 1 Axes>"
      ]
     },
     "metadata": {},
     "output_type": "display_data"
    }
   ],
   "source": [
    "models = pd.DataFrame({\n",
    "    'Model':['Logistic Regression', 'Decision Tree', 'Random Forest', 'KNeighbours', 'SVM'],\n",
    "    'Accuracy_score' :[lg, dt, rf, kn, sv]\n",
    "})\n",
    "models\n",
    "sns.barplot(x='Accuracy_score', y='Model', data=models)\n",
    "\n",
    "models.sort_values(by='Accuracy_score', ascending=False)"
   ]
  },
  {
   "cell_type": "markdown",
   "id": "10674986-f9c4-4bd6-80ff-50f085c8251c",
   "metadata": {},
   "source": [
    "# Conclusion"
   ]
  },
  {
   "cell_type": "markdown",
   "id": "1dff174b-ac71-4bb5-8ceb-8becc3de983a",
   "metadata": {},
   "source": [
    "                         The Aquapredict project successfully developed a reliable machine learning model capable of accurately forecasting water quality based on key physicochemical parameters. This model facilitates effective water resource management and ensures safe water supply. Through thorough data collection, model development, and evaluation, the project demonstrated the potential of machine learning in enhancing water quality monitoring and decision-making. The deployment of the model provides a practical tool for real-time prediction, contributing to the sustainable management of water resources and the well-being of communities."
   ]
  },
  {
   "cell_type": "code",
   "execution_count": null,
   "id": "c4ee8929-876f-43cd-8b0b-3e6265d459ae",
   "metadata": {},
   "outputs": [],
   "source": []
  },
  {
   "cell_type": "code",
   "execution_count": null,
   "id": "5fdcbc98-f628-4551-93b6-f27a4e289562",
   "metadata": {},
   "outputs": [],
   "source": []
  },
  {
   "cell_type": "code",
   "execution_count": null,
   "id": "6a89cd00-a809-4afa-95b4-d138da5fdd3c",
   "metadata": {},
   "outputs": [],
   "source": []
  },
  {
   "cell_type": "markdown",
   "id": "9b357bfd-5ca2-4c1d-bdb9-d49bcceea706",
   "metadata": {},
   "source": [
    "# "
   ]
  }
 ],
 "metadata": {
  "kernelspec": {
   "display_name": "Python 3 (ipykernel)",
   "language": "python",
   "name": "python3"
  },
  "language_info": {
   "codemirror_mode": {
    "name": "ipython",
    "version": 3
   },
   "file_extension": ".py",
   "mimetype": "text/x-python",
   "name": "python",
   "nbconvert_exporter": "python",
   "pygments_lexer": "ipython3",
   "version": "3.11.7"
  }
 },
 "nbformat": 4,
 "nbformat_minor": 5
}
